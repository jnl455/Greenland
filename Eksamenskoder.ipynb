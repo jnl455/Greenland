{
 "cells": [
  {
   "cell_type": "markdown",
   "metadata": {},
   "source": [
    "# Paper: Energy Economics of the Green Transition"
   ]
  },
  {
   "cell_type": "markdown",
   "metadata": {},
   "source": [
    "Defining two vectors with the different values of hydro and wind"
   ]
  },
  {
   "cell_type": "code",
   "execution_count": 57,
   "metadata": {},
   "outputs": [
    {
     "name": "stdout",
     "output_type": "stream",
     "text": [
      "Collecting read\n",
      "  Downloading read-0.0.2-py3-none-any.whl (1.5 kB)\n",
      "Installing collected packages: read\n",
      "Successfully installed read-0.0.2\n",
      "Note: you may need to restart the kernel to use updated packages.\n"
     ]
    }
   ],
   "source": [
    "pip install read\n"
   ]
  },
  {
   "cell_type": "code",
   "execution_count": 61,
   "metadata": {},
   "outputs": [
    {
     "name": "stdout",
     "output_type": "stream",
     "text": [
      "Sti til data: C:Users\\CAAL\\Dropbox\\Polit\\Kandidat\\4. semester\\EE of the GT\\Greenland\\Codes\\Greenland\\E44_Data.xlsx\n"
     ]
    }
   ],
   "source": [
    "# importing packages\n",
    "import numpy as np\n",
    "import pandas as pd\n",
    "import os\n",
    "from underliggende_koder import *\n",
    "import read\n",
    "\n",
    "\n",
    "\n",
    "#defining path to data\n",
    "# Din fulde sti\n",
    "full_path = r'C:\\Users\\CAAL\\Dropbox\\Polit\\Kandidat\\4. semester\\EE of the GT\\Greenland\\Codes\\Greenland\\E44_Data.xlsx'\n",
    "\n",
    "# Opret separate komponenter af stien\n",
    "path_components = full_path.split(os.sep)\n",
    "\n",
    "# Brug os.path.join til at oprette stien\n",
    "path_to_data = os.path.join(*path_components)\n",
    "\n",
    "print(\"Sti til data:\", path_to_data)\n"
   ]
  },
  {
   "cell_type": "code",
   "execution_count": 62,
   "metadata": {},
   "outputs": [
    {
     "ename": "AttributeError",
     "evalue": "module 'read' has no attribute 'dbFromWB'",
     "output_type": "error",
     "traceback": [
      "\u001b[1;31m---------------------------------------------------------------------------\u001b[0m",
      "\u001b[1;31mAttributeError\u001b[0m                            Traceback (most recent call last)",
      "\u001b[1;32mc:\\Users\\CAAL\\Dropbox\\Polit\\Kandidat\\4. semester\\EE of the GT\\Greenland\\Codes\\Greenland\\Eksamenskoder.ipynb Cell 5\u001b[0m line \u001b[0;36m6\n\u001b[0;32m      <a href='vscode-notebook-cell:/c%3A/Users/CAAL/Dropbox/Polit/Kandidat/4.%20semester/EE%20of%20the%20GT/Greenland/Codes/Greenland/Eksamenskoder.ipynb#X22sZmlsZQ%3D%3D?line=0'>1</a>\u001b[0m kwargs \u001b[39m=\u001b[39m {\u001b[39m'\u001b[39m\u001b[39mvariables\u001b[39m\u001b[39m'\u001b[39m: [\u001b[39m'\u001b[39m\u001b[39mFundamentals\u001b[39m\u001b[39m'\u001b[39m, \u001b[39m'\u001b[39m\u001b[39mLoad\u001b[39m\u001b[39m'\u001b[39m, \u001b[39m'\u001b[39m\u001b[39mGenerators_Other\u001b[39m\u001b[39m'\u001b[39m],\n\u001b[0;32m      <a href='vscode-notebook-cell:/c%3A/Users/CAAL/Dropbox/Polit/Kandidat/4.%20semester/EE%20of%20the%20GT/Greenland/Codes/Greenland/Eksamenskoder.ipynb#X22sZmlsZQ%3D%3D?line=1'>2</a>\u001b[0m         \u001b[39m'\u001b[39m\u001b[39mmaps\u001b[39m\u001b[39m'\u001b[39m: [\u001b[39m'\u001b[39m\u001b[39mGenerators_Categories\u001b[39m\u001b[39m'\u001b[39m,\u001b[39m'\u001b[39m\u001b[39mhMaps\u001b[39m\u001b[39m'\u001b[39m],\n\u001b[0;32m      <a href='vscode-notebook-cell:/c%3A/Users/CAAL/Dropbox/Polit/Kandidat/4.%20semester/EE%20of%20the%20GT/Greenland/Codes/Greenland/Eksamenskoder.ipynb#X22sZmlsZQ%3D%3D?line=2'>3</a>\u001b[0m         \u001b[39m'\u001b[39m\u001b[39mvariable2D\u001b[39m\u001b[39m'\u001b[39m: [\u001b[39m'\u001b[39m\u001b[39mHourlyVariation\u001b[39m\u001b[39m'\u001b[39m,\u001b[39m'\u001b[39m\u001b[39mGenerators_FuelMix\u001b[39m\u001b[39m'\u001b[39m],\n\u001b[0;32m      <a href='vscode-notebook-cell:/c%3A/Users/CAAL/Dropbox/Polit/Kandidat/4.%20semester/EE%20of%20the%20GT/Greenland/Codes/Greenland/Eksamenskoder.ipynb#X22sZmlsZQ%3D%3D?line=3'>4</a>\u001b[0m         \u001b[39m'\u001b[39m\u001b[39mscalars\u001b[39m\u001b[39m'\u001b[39m: [\u001b[39m'\u001b[39m\u001b[39mScalars\u001b[39m\u001b[39m'\u001b[39m]}\n\u001b[1;32m----> <a href='vscode-notebook-cell:/c%3A/Users/CAAL/Dropbox/Polit/Kandidat/4.%20semester/EE%20of%20the%20GT/Greenland/Codes/Greenland/Eksamenskoder.ipynb#X22sZmlsZQ%3D%3D?line=5'>6</a>\u001b[0m db \u001b[39m=\u001b[39m read\u001b[39m.\u001b[39;49mdbFromWB(path_to_data, kwargs)\n\u001b[0;32m      <a href='vscode-notebook-cell:/c%3A/Users/CAAL/Dropbox/Polit/Kandidat/4.%20semester/EE%20of%20the%20GT/Greenland/Codes/Greenland/Eksamenskoder.ipynb#X22sZmlsZQ%3D%3D?line=6'>7</a>\u001b[0m readSets(db)\n",
      "\u001b[1;31mAttributeError\u001b[0m: module 'read' has no attribute 'dbFromWB'"
     ]
    }
   ],
   "source": [
    "kwargs = {'variables': ['Fundamentals', 'Load', 'Generators_Other'],\n",
    "        'maps': ['Generators_Categories','hMaps'],\n",
    "        'variable2D': ['HourlyVariation','Generators_FuelMix'],\n",
    "        'scalars': ['Scalars']}\n",
    "\n",
    "db = read.dbFromWB(path_to_data, kwargs)\n",
    "readSets(db)"
   ]
  },
  {
   "cell_type": "code",
   "execution_count": 39,
   "metadata": {},
   "outputs": [
    {
     "name": "stdout",
     "output_type": "stream",
     "text": [
      "Vector for wind: [ 0.   13.75 27.5  41.25 55.  ]\n",
      "Vector for hydro: [ 45.    58.75  72.5   86.25 100.  ]\n"
     ]
    }
   ],
   "source": [
    "# Defining vectors for wind and hydro\n",
    "vec_wind = np.linspace(0, 55, 5)\n",
    "vec_hydro = np.linspace(45, 100, 5)\n",
    "\n",
    "# printing vectors\n",
    "print(\"Vector for wind:\", vec_wind)\n",
    "print(\"Vector for hydro:\", vec_hydro)\n"
   ]
  },
  {
   "cell_type": "code",
   "execution_count": 40,
   "metadata": {},
   "outputs": [
    {
     "ename": "NameError",
     "evalue": "name 'm' is not defined",
     "output_type": "error",
     "traceback": [
      "\u001b[1;31m---------------------------------------------------------------------------\u001b[0m",
      "\u001b[1;31mNameError\u001b[0m                                 Traceback (most recent call last)",
      "\u001b[1;32mc:\\Users\\CAAL\\Dropbox\\Polit\\Kandidat\\4. semester\\EE of the GT\\Greenland\\Codes\\Greenland\\Eksamenskoder.ipynb Cell 5\u001b[0m line \u001b[0;36m9\n\u001b[0;32m      <a href='vscode-notebook-cell:/c%3A/Users/CAAL/Dropbox/Polit/Kandidat/4.%20semester/EE%20of%20the%20GT/Greenland/Codes/Greenland/Eksamenskoder.ipynb#W1sZmlsZQ%3D%3D?line=5'>6</a>\u001b[0m loop \u001b[39m=\u001b[39m pd\u001b[39m.\u001b[39mIndex(\u001b[39mrange\u001b[39m(\u001b[39m5\u001b[39m), name \u001b[39m=\u001b[39m \u001b[39m'\u001b[39m\u001b[39mloop1\u001b[39m\u001b[39m'\u001b[39m)\n\u001b[0;32m      <a href='vscode-notebook-cell:/c%3A/Users/CAAL/Dropbox/Polit/Kandidat/4.%20semester/EE%20of%20the%20GT/Greenland/Codes/Greenland/Eksamenskoder.ipynb#W1sZmlsZQ%3D%3D?line=6'>7</a>\u001b[0m loop2 \u001b[39m=\u001b[39m pd\u001b[39m.\u001b[39mIndex(\u001b[39mrange\u001b[39m(\u001b[39m5\u001b[39m), name \u001b[39m=\u001b[39m \u001b[39m'\u001b[39m\u001b[39mloop2\u001b[39m\u001b[39m'\u001b[39m)\n\u001b[1;32m----> <a href='vscode-notebook-cell:/c%3A/Users/CAAL/Dropbox/Polit/Kandidat/4.%20semester/EE%20of%20the%20GT/Greenland/Codes/Greenland/Eksamenskoder.ipynb#W1sZmlsZQ%3D%3D?line=8'>9</a>\u001b[0m v0_ECap \u001b[39m=\u001b[39m pd\u001b[39m.\u001b[39mSeries(\u001b[39m0.001\u001b[39m, index \u001b[39m=\u001b[39m getTechs([\u001b[39m'\u001b[39m\u001b[39mStorage\u001b[39m\u001b[39m'\u001b[39m], m\u001b[39m.\u001b[39mdb))\n\u001b[0;32m     <a href='vscode-notebook-cell:/c%3A/Users/CAAL/Dropbox/Polit/Kandidat/4.%20semester/EE%20of%20the%20GT/Greenland/Codes/Greenland/Eksamenskoder.ipynb#W1sZmlsZQ%3D%3D?line=9'>10</a>\u001b[0m vT_ECap \u001b[39m=\u001b[39m pd\u001b[39m.\u001b[39mSeries(maxcap, index \u001b[39m=\u001b[39m v0_ECap\u001b[39m.\u001b[39mindex)\n\u001b[0;32m     <a href='vscode-notebook-cell:/c%3A/Users/CAAL/Dropbox/Polit/Kandidat/4.%20semester/EE%20of%20the%20GT/Greenland/Codes/Greenland/Eksamenskoder.ipynb#W1sZmlsZQ%3D%3D?line=10'>11</a>\u001b[0m v0_SCap \u001b[39m=\u001b[39m v0_ECap\u001b[39m.\u001b[39mmul(E2P)\n",
      "\u001b[1;31mNameError\u001b[0m: name 'm' is not defined"
     ]
    }
   ],
   "source": [
    "# Setting\n",
    "E2P = 4 # The \"energy storage to power\"-ratio/storage duration\n",
    "\n",
    "maxcap = 100\n",
    "\n",
    "# Defining two loops\n",
    "loop = pd.Index(range(5), name = 'loop')\n",
    "loop2 = pd.Index(range(5), name = 'loop2')\n",
    "\n",
    "# Defining parameters\n",
    "v0_ECap = pd.Series(0.001, index = getTechs(['Storage'], m.db))\n",
    "vT_ECap = pd.Series(maxcap, index = v0_ECap.index)\n",
    "v0_SCap = v0_ECap.mul(E2P)\n",
    "vT_SCap = vT_ECap.mul(E2P)\n",
    "\n",
    "grid_ECap = adjMultiIndex.addGrid(v0_ECap,vT_ECap,loop,'GeneratingCapacity').astype(int)\n",
    "grid_SCap = adjMultiIndex.addGrid(v0_SCap,vT_SCap,loop2,'sCap').astype(int)"
   ]
  },
  {
   "cell_type": "code",
   "execution_count": null,
   "metadata": {},
   "outputs": [
    {
     "ename": "IndentationError",
     "evalue": "expected an indented block (2742015541.py, line 2)",
     "output_type": "error",
     "traceback": [
      "\u001b[1;36m  Cell \u001b[1;32mIn[8], line 2\u001b[1;36m\u001b[0m\n\u001b[1;33m    \"\"\" If v0, vT are 1d numpy arrays, returns 2d array. If scalars, returns 1d arrays. \"\"\"\u001b[0m\n\u001b[1;37m    ^\u001b[0m\n\u001b[1;31mIndentationError\u001b[0m\u001b[1;31m:\u001b[0m expected an indented block\n"
     ]
    }
   ],
   "source": [
    "def grid(v0,vT,index,gridtype='linear',phi=1):\n",
    "\"\"\" If v0, vT are 1d numpy arrays, returns 2d array. If scalars, returns 1d arrays. \"\"\"\n",
    "    if gridtype == 'linear': \n",
    "        return np.linspace(v0,vT,len(index))   \n",
    "    elif gridtype=='polynomial':\n",
    "        return np.array([v0+(vT-v0)*((i-1)/(len(index)-1))**phi for i in range(1,len(index)+1)])"
   ]
  },
  {
   "cell_type": "code",
   "execution_count": null,
   "metadata": {},
   "outputs": [
    {
     "ename": "IndentationError",
     "evalue": "expected an indented block (3621522988.py, line 2)",
     "output_type": "error",
     "traceback": [
      "\u001b[1;36m  Cell \u001b[1;32mIn[7], line 2\u001b[1;36m\u001b[0m\n\u001b[1;33m    \"\"\" NB: Make sure that v0 and vT are sorted similarly (if they are defined over indices) \"\"\"\u001b[0m\n\u001b[1;37m    ^\u001b[0m\n\u001b[1;31mIndentationError\u001b[0m\u001b[1;31m:\u001b[0m expected an indented block\n"
     ]
    }
   ],
   "source": [
    "def addGrid(v0, vT,index,name,gridtype = 'linear', phi = 1,sort_levels=None, sort_index = False):\n",
    "\"\"\" NB: Make sure that v0 and vT are sorted similarly (if they are defined over indices) \"\"\"\n",
    "if sort_index:\n",
    "v0 = v0.sort_index()\n",
    "vT = vT.sort_index()\n",
    "if isinstance(v0,pd.Series):\n",
    "    return pd.DataFrame(grid(v0,vT,index,gridtype=gridtype,phi=phi).T, index = v0.index, columns = index).stack().rename(name).reorder_levels(index.names+v0.index.names if sort_levels is None else sort_levels)\n",
    "else:\n",
    "    return pd.Series(grid(v0,vT,index,gridtype=gridtype,phi=phi), index = index,name=name)"
   ]
  },
  {
   "cell_type": "code",
   "execution_count": null,
   "metadata": {},
   "outputs": [],
   "source": [
    "df_E = lpCompiler.sortAll(addGrid(grid_ECap, grid_ECap, loop2, 'GeneratingCap_E').unstack('id'))\n",
    "df_S = lpCompiler.sortAll(addGrid(grid_SCap, grid_SCap, loop, 'sCap').unstack('id'))\n",
    "df_E.index = df_E.index.to_flat_index().rename('loop')\n",
    "df_S.index = df_S.index.to_flat_index().rename('loop')\n",
    "grid_ECap_1d = df_E.stack().rename('GeneratingCap_E')\n",
    "grid_SCap_1d = df_S.stack().rename('GeneratingCap_H')\n",
    "loop = df_E.index\n"
   ]
  },
  {
   "cell_type": "code",
   "execution_count": null,
   "metadata": {},
   "outputs": [],
   "source": [
    "\n",
    "extract = ['marginalSystemCosts','Generation','charge','discharge','capturePrice','marketValueFactor','capacityFactor','marginalEconomicValue','hourlyEmissions','Emissions','consumerSurplus','producerSurplus','Welfare']\n"
   ]
  },
  {
   "cell_type": "code",
   "execution_count": null,
   "metadata": {},
   "outputs": [],
   "source": [
    "\n",
    "solution = m.loopSolveExtract(loop, [grid_ECap_1d, grid_SCap_1d], extract)"
   ]
  }
 ],
 "metadata": {
  "kernelspec": {
   "display_name": "base",
   "language": "python",
   "name": "python3"
  },
  "language_info": {
   "codemirror_mode": {
    "name": "ipython",
    "version": 3
   },
   "file_extension": ".py",
   "mimetype": "text/x-python",
   "name": "python",
   "nbconvert_exporter": "python",
   "pygments_lexer": "ipython3",
   "version": "3.9.16"
  }
 },
 "nbformat": 4,
 "nbformat_minor": 2
}
