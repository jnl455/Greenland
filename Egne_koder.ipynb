{
 "cells": [
  {
   "cell_type": "markdown",
   "metadata": {},
   "source": [
    "# Overskrift"
   ]
  },
  {
   "cell_type": "markdown",
   "metadata": {},
   "source": [
    "### Underoverskrift"
   ]
  },
  {
   "cell_type": "code",
   "execution_count": 2,
   "metadata": {},
   "outputs": [
    {
     "ename": "NameError",
     "evalue": "name 'equation' is not defined",
     "output_type": "error",
     "traceback": [
      "\u001b[1;31m---------------------------------------------------------------------------\u001b[0m",
      "\u001b[1;31mNameError\u001b[0m                                 Traceback (most recent call last)",
      "\u001b[1;32mc:\\Users\\CAAL\\Dropbox\\Polit\\Kandidat\\4. semester\\EE of the GT\\Greenland\\Codes\\Greenland\\Egne_koder.ipynb Cell 3\u001b[0m line \u001b[0;36m1\n\u001b[1;32m----> <a href='vscode-notebook-cell:/c%3A/Users/CAAL/Dropbox/Polit/Kandidat/4.%20semester/EE%20of%20the%20GT/Greenland/Codes/Greenland/Egne_koder.ipynb#W3sZmlsZQ%3D%3D?line=0'>1</a>\u001b[0m equation(\u001b[39m2\u001b[39m\u001b[39m+\u001b[39m\u001b[39m3\u001b[39m)\n\u001b[0;32m      <a href='vscode-notebook-cell:/c%3A/Users/CAAL/Dropbox/Polit/Kandidat/4.%20semester/EE%20of%20the%20GT/Greenland/Codes/Greenland/Egne_koder.ipynb#W3sZmlsZQ%3D%3D?line=1'>2</a>\u001b[0m solve(equation)\n",
      "\u001b[1;31mNameError\u001b[0m: name 'equation' is not defined"
     ]
    }
   ],
   "source": [
    "equation(2+3)\n",
    "solve(equation)"
   ]
  }
 ],
 "metadata": {
  "kernelspec": {
   "display_name": "base",
   "language": "python",
   "name": "python3"
  },
  "language_info": {
   "codemirror_mode": {
    "name": "ipython",
    "version": 3
   },
   "file_extension": ".py",
   "mimetype": "text/x-python",
   "name": "python",
   "nbconvert_exporter": "python",
   "pygments_lexer": "ipython3",
   "version": "3.9.16"
  }
 },
 "nbformat": 4,
 "nbformat_minor": 2
}
